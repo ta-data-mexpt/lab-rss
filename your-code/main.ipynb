{
 "cells": [
  {
   "cell_type": "markdown",
   "metadata": {},
   "source": [
    "# Working with RSS Feeds Lab\n",
    "\n",
    "Complete the following set of exercises to solidify your knowledge of parsing RSS feeds and extracting information from them."
   ]
  },
  {
   "cell_type": "code",
   "execution_count": 1,
   "metadata": {},
   "outputs": [],
   "source": [
    "import feedparser"
   ]
  },
  {
   "cell_type": "markdown",
   "metadata": {},
   "source": [
    "### 1. Use feedparser to parse the following RSS feed URL."
   ]
  },
  {
   "cell_type": "code",
   "execution_count": 3,
   "metadata": {},
   "outputs": [],
   "source": [
    "url = 'http://feeds.feedburner.com/oreilly/radar/atom'\n",
    "\n",
    "feed = feedparser.parse(url)"
   ]
  },
  {
   "cell_type": "markdown",
   "metadata": {},
   "source": [
    "### 2. Obtain a list of components (keys) that are available for this feed."
   ]
  },
  {
   "cell_type": "code",
   "execution_count": 4,
   "metadata": {},
   "outputs": [
    {
     "output_type": "execute_result",
     "data": {
      "text/plain": "dict_keys(['feed', 'entries', 'bozo', 'headers', 'etag', 'updated', 'updated_parsed', 'href', 'status', 'encoding', 'version', 'namespaces'])"
     },
     "metadata": {},
     "execution_count": 4
    }
   ],
   "source": [
    "feed.keys()"
   ]
  },
  {
   "cell_type": "markdown",
   "metadata": {},
   "source": [
    "### 3. Obtain a list of components (keys) that are available for the *feed* component of this RSS feed."
   ]
  },
  {
   "cell_type": "code",
   "execution_count": 5,
   "metadata": {},
   "outputs": [
    {
     "output_type": "execute_result",
     "data": {
      "text/plain": "dict_keys(['title', 'title_detail', 'links', 'link', 'subtitle', 'subtitle_detail', 'updated', 'updated_parsed', 'language', 'sy_updateperiod', 'sy_updatefrequency', 'generator_detail', 'generator', 'feedburner_info', 'geo_lat', 'geo_long', 'feedburner_emailserviceid', 'feedburner_feedburnerhostname'])"
     },
     "metadata": {},
     "execution_count": 5
    }
   ],
   "source": [
    "feed.feed.keys()"
   ]
  },
  {
   "cell_type": "markdown",
   "metadata": {},
   "source": [
    "### 4. Extract and print the feed title, subtitle, author, and link."
   ]
  },
  {
   "cell_type": "code",
   "execution_count": 53,
   "metadata": {},
   "outputs": [
    {
     "output_type": "execute_result",
     "data": {
      "text/plain": "['Radar',\n 'Now, next, and beyond: Tracking need-to-know trends at the intersection of business and technology',\n 'https://wordpress.org/?v=5.3.3',\n 'http://feeds.feedburner.com/oreilly/radar/atom']"
     },
     "metadata": {},
     "execution_count": 53
    }
   ],
   "source": [
    "title = feed.feed.title\n",
    "subtitle = feed.feed.subtitle\n",
    "author = feed.feed['generator']\n",
    "link = feed.href\n",
    "\n",
    "relevant_facts = [title, subtitle, author, link]\n",
    "relevant_facts"
   ]
  },
  {
   "cell_type": "markdown",
   "metadata": {},
   "source": [
    "### 5. Count the number of entries that are contained in this RSS feed."
   ]
  },
  {
   "cell_type": "code",
   "execution_count": 51,
   "metadata": {},
   "outputs": [
    {
     "output_type": "stream",
     "name": "stdout",
     "text": "There are 60 entries contained in tis RSS feed.\n"
    }
   ],
   "source": [
    "print('There are {} entries contained in tis RSS feed.'.format(len(feed.entries)))"
   ]
  },
  {
   "cell_type": "markdown",
   "metadata": {},
   "source": [
    "### 6. Obtain a list of components (keys) available for an entry.\n",
    "\n",
    "*Hint: Remember to index first before requesting the keys*"
   ]
  },
  {
   "cell_type": "code",
   "execution_count": 57,
   "metadata": {},
   "outputs": [
    {
     "output_type": "execute_result",
     "data": {
      "text/plain": "dict_keys(['title', 'title_detail', 'links', 'link', 'comments', 'published', 'published_parsed', 'authors', 'author', 'author_detail', 'tags', 'id', 'guidislink', 'summary', 'summary_detail', 'content', 'wfw_commentrss', 'slash_comments', 'feedburner_origlink'])"
     },
     "metadata": {},
     "execution_count": 57
    }
   ],
   "source": [
    "feed.entries[0].keys()"
   ]
  },
  {
   "cell_type": "markdown",
   "metadata": {},
   "source": [
    "### 7. Extract a list of entry titles."
   ]
  },
  {
   "cell_type": "code",
   "execution_count": 63,
   "metadata": {},
   "outputs": [
    {
     "output_type": "execute_result",
     "data": {
      "text/plain": "['Four short links: 15 May 2020',\n 'Practical Skills for The AI Product Manager',\n 'Four short links: 14 May 2020',\n 'Four short links: 13 May 2020',\n 'Four short links: 12 May 2020',\n 'When models are everywhere',\n 'Four short links: 11 May 2020',\n 'Four short links: 8 May 2020',\n 'Radar trends to watch: May 2020',\n 'Four short links: 7 May 2020',\n 'Four short links: 6 May 2020',\n 'Four short links: 5 May 2020',\n 'On COBOL',\n 'Four short links: 4 May 2020',\n 'Four short links: 1 May 2020',\n 'Four short links: 30 April 2020',\n 'Four short links: 29 April 2020',\n 'Four short links: 28 April 2020',\n 'Four short links: 27 April 2020',\n 'Four short links: 24 April 2020',\n 'Four short links: 23 April 2020',\n 'How data privacy leader Apple found itself in a data ethics catastrophe',\n 'Four short links: 22 April 2020',\n 'Four short links: 21 April 2020',\n 'Four short links: 20 April 2020',\n 'Four short links: 17 April 2020',\n 'Four short links: 16 April 2020',\n 'Four short links: 15 April 2020',\n 'Four short links: 14 April 2020',\n 'Radar trends to watch: April 2020',\n 'Four short links: 13 April 2020',\n 'Four short links: 10 April 2020',\n 'Four short links: 9 April 2020',\n 'Four short links: 8 April 2020',\n 'Four short links: 7 April 2020',\n 'Governance and Discovery',\n 'Four short links: 6 April 2020',\n 'Four short links: 3 April 2020',\n 'Four short links: 2 April 2020',\n 'Four short links: 1 April 2020',\n 'Four short links: 31 March 2020',\n 'What you need to know about product management for AI',\n 'The unreasonable importance of data preparation',\n 'Four short links: 24 March 2020',\n '3 ways to confront modern business challenges',\n 'An enterprise vision is your company’s North Star',\n 'Leaders need to mobilize change-ready workforces',\n 'Great leaders inspire innovation and creativity from within their workforces',\n 'Strong leaders forge an intersection of knowledge and experience',\n 'Four short links: 23 March 2020',\n 'Four short links: 20 March 2020',\n '6 trends framing the state of AI and ML',\n 'Four short links: 19 March 2020',\n 'AI adoption in the enterprise 2020',\n 'It’s an unprecedented crisis: 8 things to do right now',\n 'Four short links: 18 March 2020',\n 'Four short links: 17 March 2020',\n 'Four short links: 16 March 2020',\n 'Four short links: 13 March 2020',\n 'Four short links: 12 March 2020']"
     },
     "metadata": {},
     "execution_count": 63
    }
   ],
   "source": [
    "entry_titles = [feed.entries[i].title for i in range(len(feed.entries))]\n",
    "entry_titles"
   ]
  },
  {
   "cell_type": "markdown",
   "metadata": {},
   "source": [
    "### 8. Calculate the percentage of \"Four short links\" entry titles."
   ]
  },
  {
   "cell_type": "code",
   "execution_count": 70,
   "metadata": {},
   "outputs": [
    {
     "output_type": "stream",
     "name": "stdout",
     "text": "The percentage of \"Four short links\" entry titles is 71.67%\n"
    }
   ],
   "source": [
    "four_short_links = [feed.entries[i].title for i in range(len(feed.entries)) if feed.entries[i].title.startswith('Four')]\n",
    "percentage_of_four_short_links = len(four_short_links) / len(entry_titles)\n",
    "print('The percentage of \"Four short links\" entry titles is {:.2%}'.format(percentage_of_four_short_links))"
   ]
  },
  {
   "cell_type": "markdown",
   "metadata": {},
   "source": [
    "### 9. Create a Pandas data frame from the feed's entries."
   ]
  },
  {
   "cell_type": "code",
   "execution_count": 71,
   "metadata": {},
   "outputs": [],
   "source": [
    "import pandas as pd"
   ]
  },
  {
   "cell_type": "code",
   "execution_count": 72,
   "metadata": {},
   "outputs": [
    {
     "output_type": "execute_result",
     "data": {
      "text/plain": "                                         title  \\\n0                Four short links: 15 May 2020   \n1  Practical Skills for The AI Product Manager   \n2                Four short links: 14 May 2020   \n3                Four short links: 13 May 2020   \n4                Four short links: 12 May 2020   \n\n                                        title_detail  \\\n0  {'type': 'text/plain', 'language': None, 'base...   \n1  {'type': 'text/plain', 'language': None, 'base...   \n2  {'type': 'text/plain', 'language': None, 'base...   \n3  {'type': 'text/plain', 'language': None, 'base...   \n4  {'type': 'text/plain', 'language': None, 'base...   \n\n                                               links  \\\n0  [{'rel': 'alternate', 'type': 'text/html', 'hr...   \n1  [{'rel': 'alternate', 'type': 'text/html', 'hr...   \n2  [{'rel': 'alternate', 'type': 'text/html', 'hr...   \n3  [{'rel': 'alternate', 'type': 'text/html', 'hr...   \n4  [{'rel': 'alternate', 'type': 'text/html', 'hr...   \n\n                                                link  \\\n0  http://feedproxy.google.com/~r/oreilly/radar/a...   \n1  http://feedproxy.google.com/~r/oreilly/radar/a...   \n2  http://feedproxy.google.com/~r/oreilly/radar/a...   \n3  http://feedproxy.google.com/~r/oreilly/radar/a...   \n4  http://feedproxy.google.com/~r/oreilly/radar/a...   \n\n                                            comments  \\\n0  https://www.oreilly.com/radar/four-short-links...   \n1  https://www.oreilly.com/radar/practical-skills...   \n2  https://www.oreilly.com/radar/four-short-links...   \n3  https://www.oreilly.com/radar/four-short-links...   \n4  https://www.oreilly.com/radar/four-short-links...   \n\n                         published                      published_parsed  \\\n0  Fri, 15 May 2020 11:22:50 +0000  (2020, 5, 15, 11, 22, 50, 4, 136, 0)   \n1  Thu, 14 May 2020 12:40:45 +0000  (2020, 5, 14, 12, 40, 45, 3, 135, 0)   \n2  Thu, 14 May 2020 11:28:00 +0000   (2020, 5, 14, 11, 28, 0, 3, 135, 0)   \n3  Wed, 13 May 2020 10:41:37 +0000  (2020, 5, 13, 10, 41, 37, 2, 134, 0)   \n4  Tue, 12 May 2020 11:22:23 +0000  (2020, 5, 12, 11, 22, 23, 1, 133, 0)   \n\n                                             authors  \\\n0                       [{'name': 'Nat Torkington'}]   \n1  [{'name': 'Justin Norman, Peter Skomoroch and ...   \n2                       [{'name': 'Nat Torkington'}]   \n3                       [{'name': 'Nat Torkington'}]   \n4                       [{'name': 'Nat Torkington'}]   \n\n                                             author  \\\n0                                    Nat Torkington   \n1  Justin Norman, Peter Skomoroch and Mike Loukides   \n2                                    Nat Torkington   \n3                                    Nat Torkington   \n4                                    Nat Torkington   \n\n                                       author_detail  \\\n0                         {'name': 'Nat Torkington'}   \n1  {'name': 'Justin Norman, Peter Skomoroch and M...   \n2                         {'name': 'Nat Torkington'}   \n3                         {'name': 'Nat Torkington'}   \n4                         {'name': 'Nat Torkington'}   \n\n                                                tags  \\\n0  [{'term': 'Four Short Links', 'scheme': None, ...   \n1  [{'term': 'AI & ML', 'scheme': None, 'label': ...   \n2  [{'term': 'Four Short Links', 'scheme': None, ...   \n3  [{'term': 'Four Short Links', 'scheme': None, ...   \n4  [{'term': 'Four Short Links', 'scheme': None, ...   \n\n                                       id  guidislink  \\\n0  https://www.oreilly.com/radar/?p=12789       False   \n1  https://www.oreilly.com/radar/?p=12786       False   \n2  https://www.oreilly.com/radar/?p=12783       False   \n3  https://www.oreilly.com/radar/?p=12779       False   \n4  https://www.oreilly.com/radar/?p=12776       False   \n\n                                             summary  \\\n0  Favourite Developer-Efficiency Tips &#8212; Be...   \n1  In our previous article, What You Need to Know...   \n2  Malware Toolkit Targetting Airgapped Networks ...   \n3  The Confessions of Marcus Hutchins, the Hacker...   \n4  flecs &#8212; a Fast and Lightweight ECS (Enti...   \n\n                                      summary_detail  \\\n0  {'type': 'text/html', 'language': None, 'base'...   \n1  {'type': 'text/html', 'language': None, 'base'...   \n2  {'type': 'text/html', 'language': None, 'base'...   \n3  {'type': 'text/html', 'language': None, 'base'...   \n4  {'type': 'text/html', 'language': None, 'base'...   \n\n                                             content  \\\n0  [{'type': 'text/html', 'language': None, 'base...   \n1  [{'type': 'text/html', 'language': None, 'base...   \n2  [{'type': 'text/html', 'language': None, 'base...   \n3  [{'type': 'text/html', 'language': None, 'base...   \n4  [{'type': 'text/html', 'language': None, 'base...   \n\n                                      wfw_commentrss slash_comments  \\\n0  https://www.oreilly.com/radar/four-short-links...              0   \n1  https://www.oreilly.com/radar/practical-skills...              0   \n2  https://www.oreilly.com/radar/four-short-links...              0   \n3  https://www.oreilly.com/radar/four-short-links...              0   \n4  https://www.oreilly.com/radar/four-short-links...              0   \n\n                                 feedburner_origlink  \n0  https://www.oreilly.com/radar/four-short-links...  \n1  https://www.oreilly.com/radar/practical-skills...  \n2  https://www.oreilly.com/radar/four-short-links...  \n3  https://www.oreilly.com/radar/four-short-links...  \n4  https://www.oreilly.com/radar/four-short-links...  ",
      "text/html": "<div>\n<style scoped>\n    .dataframe tbody tr th:only-of-type {\n        vertical-align: middle;\n    }\n\n    .dataframe tbody tr th {\n        vertical-align: top;\n    }\n\n    .dataframe thead th {\n        text-align: right;\n    }\n</style>\n<table border=\"1\" class=\"dataframe\">\n  <thead>\n    <tr style=\"text-align: right;\">\n      <th></th>\n      <th>title</th>\n      <th>title_detail</th>\n      <th>links</th>\n      <th>link</th>\n      <th>comments</th>\n      <th>published</th>\n      <th>published_parsed</th>\n      <th>authors</th>\n      <th>author</th>\n      <th>author_detail</th>\n      <th>tags</th>\n      <th>id</th>\n      <th>guidislink</th>\n      <th>summary</th>\n      <th>summary_detail</th>\n      <th>content</th>\n      <th>wfw_commentrss</th>\n      <th>slash_comments</th>\n      <th>feedburner_origlink</th>\n    </tr>\n  </thead>\n  <tbody>\n    <tr>\n      <th>0</th>\n      <td>Four short links: 15 May 2020</td>\n      <td>{'type': 'text/plain', 'language': None, 'base...</td>\n      <td>[{'rel': 'alternate', 'type': 'text/html', 'hr...</td>\n      <td>http://feedproxy.google.com/~r/oreilly/radar/a...</td>\n      <td>https://www.oreilly.com/radar/four-short-links...</td>\n      <td>Fri, 15 May 2020 11:22:50 +0000</td>\n      <td>(2020, 5, 15, 11, 22, 50, 4, 136, 0)</td>\n      <td>[{'name': 'Nat Torkington'}]</td>\n      <td>Nat Torkington</td>\n      <td>{'name': 'Nat Torkington'}</td>\n      <td>[{'term': 'Four Short Links', 'scheme': None, ...</td>\n      <td>https://www.oreilly.com/radar/?p=12789</td>\n      <td>False</td>\n      <td>Favourite Developer-Efficiency Tips &amp;#8212; Be...</td>\n      <td>{'type': 'text/html', 'language': None, 'base'...</td>\n      <td>[{'type': 'text/html', 'language': None, 'base...</td>\n      <td>https://www.oreilly.com/radar/four-short-links...</td>\n      <td>0</td>\n      <td>https://www.oreilly.com/radar/four-short-links...</td>\n    </tr>\n    <tr>\n      <th>1</th>\n      <td>Practical Skills for The AI Product Manager</td>\n      <td>{'type': 'text/plain', 'language': None, 'base...</td>\n      <td>[{'rel': 'alternate', 'type': 'text/html', 'hr...</td>\n      <td>http://feedproxy.google.com/~r/oreilly/radar/a...</td>\n      <td>https://www.oreilly.com/radar/practical-skills...</td>\n      <td>Thu, 14 May 2020 12:40:45 +0000</td>\n      <td>(2020, 5, 14, 12, 40, 45, 3, 135, 0)</td>\n      <td>[{'name': 'Justin Norman, Peter Skomoroch and ...</td>\n      <td>Justin Norman, Peter Skomoroch and Mike Loukides</td>\n      <td>{'name': 'Justin Norman, Peter Skomoroch and M...</td>\n      <td>[{'term': 'AI &amp; ML', 'scheme': None, 'label': ...</td>\n      <td>https://www.oreilly.com/radar/?p=12786</td>\n      <td>False</td>\n      <td>In our previous article, What You Need to Know...</td>\n      <td>{'type': 'text/html', 'language': None, 'base'...</td>\n      <td>[{'type': 'text/html', 'language': None, 'base...</td>\n      <td>https://www.oreilly.com/radar/practical-skills...</td>\n      <td>0</td>\n      <td>https://www.oreilly.com/radar/practical-skills...</td>\n    </tr>\n    <tr>\n      <th>2</th>\n      <td>Four short links: 14 May 2020</td>\n      <td>{'type': 'text/plain', 'language': None, 'base...</td>\n      <td>[{'rel': 'alternate', 'type': 'text/html', 'hr...</td>\n      <td>http://feedproxy.google.com/~r/oreilly/radar/a...</td>\n      <td>https://www.oreilly.com/radar/four-short-links...</td>\n      <td>Thu, 14 May 2020 11:28:00 +0000</td>\n      <td>(2020, 5, 14, 11, 28, 0, 3, 135, 0)</td>\n      <td>[{'name': 'Nat Torkington'}]</td>\n      <td>Nat Torkington</td>\n      <td>{'name': 'Nat Torkington'}</td>\n      <td>[{'term': 'Four Short Links', 'scheme': None, ...</td>\n      <td>https://www.oreilly.com/radar/?p=12783</td>\n      <td>False</td>\n      <td>Malware Toolkit Targetting Airgapped Networks ...</td>\n      <td>{'type': 'text/html', 'language': None, 'base'...</td>\n      <td>[{'type': 'text/html', 'language': None, 'base...</td>\n      <td>https://www.oreilly.com/radar/four-short-links...</td>\n      <td>0</td>\n      <td>https://www.oreilly.com/radar/four-short-links...</td>\n    </tr>\n    <tr>\n      <th>3</th>\n      <td>Four short links: 13 May 2020</td>\n      <td>{'type': 'text/plain', 'language': None, 'base...</td>\n      <td>[{'rel': 'alternate', 'type': 'text/html', 'hr...</td>\n      <td>http://feedproxy.google.com/~r/oreilly/radar/a...</td>\n      <td>https://www.oreilly.com/radar/four-short-links...</td>\n      <td>Wed, 13 May 2020 10:41:37 +0000</td>\n      <td>(2020, 5, 13, 10, 41, 37, 2, 134, 0)</td>\n      <td>[{'name': 'Nat Torkington'}]</td>\n      <td>Nat Torkington</td>\n      <td>{'name': 'Nat Torkington'}</td>\n      <td>[{'term': 'Four Short Links', 'scheme': None, ...</td>\n      <td>https://www.oreilly.com/radar/?p=12779</td>\n      <td>False</td>\n      <td>The Confessions of Marcus Hutchins, the Hacker...</td>\n      <td>{'type': 'text/html', 'language': None, 'base'...</td>\n      <td>[{'type': 'text/html', 'language': None, 'base...</td>\n      <td>https://www.oreilly.com/radar/four-short-links...</td>\n      <td>0</td>\n      <td>https://www.oreilly.com/radar/four-short-links...</td>\n    </tr>\n    <tr>\n      <th>4</th>\n      <td>Four short links: 12 May 2020</td>\n      <td>{'type': 'text/plain', 'language': None, 'base...</td>\n      <td>[{'rel': 'alternate', 'type': 'text/html', 'hr...</td>\n      <td>http://feedproxy.google.com/~r/oreilly/radar/a...</td>\n      <td>https://www.oreilly.com/radar/four-short-links...</td>\n      <td>Tue, 12 May 2020 11:22:23 +0000</td>\n      <td>(2020, 5, 12, 11, 22, 23, 1, 133, 0)</td>\n      <td>[{'name': 'Nat Torkington'}]</td>\n      <td>Nat Torkington</td>\n      <td>{'name': 'Nat Torkington'}</td>\n      <td>[{'term': 'Four Short Links', 'scheme': None, ...</td>\n      <td>https://www.oreilly.com/radar/?p=12776</td>\n      <td>False</td>\n      <td>flecs &amp;#8212; a Fast and Lightweight ECS (Enti...</td>\n      <td>{'type': 'text/html', 'language': None, 'base'...</td>\n      <td>[{'type': 'text/html', 'language': None, 'base...</td>\n      <td>https://www.oreilly.com/radar/four-short-links...</td>\n      <td>0</td>\n      <td>https://www.oreilly.com/radar/four-short-links...</td>\n    </tr>\n  </tbody>\n</table>\n</div>"
     },
     "metadata": {},
     "execution_count": 72
    }
   ],
   "source": [
    "feed_dataframe = pd.DataFrame(feed.entries)\n",
    "feed_dataframe.head()"
   ]
  },
  {
   "cell_type": "markdown",
   "metadata": {},
   "source": [
    "### 10. Count the number of entries per author and sort them in descending order."
   ]
  },
  {
   "cell_type": "code",
   "execution_count": 73,
   "metadata": {},
   "outputs": [
    {
     "output_type": "execute_result",
     "data": {
      "text/plain": "                                              author  entries\n7                                     Nat Torkington       43\n4                                          Jenn Webb        4\n6                                      Mike Loukides        4\n10                   Roger Magoulas and Steve Swoyer        2\n0                                      Cynthia Owens        1\n1                        Daniel Wu and Mike Loukides        1\n2                                Hugo Bowne-Anderson        1\n3              Hugo Bowne-Anderson and Mike Loukides        1\n5   Justin Norman, Peter Skomoroch and Mike Loukides        1\n8                  Peter Skomoroch and Mike Loukides        1\n9                                       Rita J. King        1",
      "text/html": "<div>\n<style scoped>\n    .dataframe tbody tr th:only-of-type {\n        vertical-align: middle;\n    }\n\n    .dataframe tbody tr th {\n        vertical-align: top;\n    }\n\n    .dataframe thead th {\n        text-align: right;\n    }\n</style>\n<table border=\"1\" class=\"dataframe\">\n  <thead>\n    <tr style=\"text-align: right;\">\n      <th></th>\n      <th>author</th>\n      <th>entries</th>\n    </tr>\n  </thead>\n  <tbody>\n    <tr>\n      <th>7</th>\n      <td>Nat Torkington</td>\n      <td>43</td>\n    </tr>\n    <tr>\n      <th>4</th>\n      <td>Jenn Webb</td>\n      <td>4</td>\n    </tr>\n    <tr>\n      <th>6</th>\n      <td>Mike Loukides</td>\n      <td>4</td>\n    </tr>\n    <tr>\n      <th>10</th>\n      <td>Roger Magoulas and Steve Swoyer</td>\n      <td>2</td>\n    </tr>\n    <tr>\n      <th>0</th>\n      <td>Cynthia Owens</td>\n      <td>1</td>\n    </tr>\n    <tr>\n      <th>1</th>\n      <td>Daniel Wu and Mike Loukides</td>\n      <td>1</td>\n    </tr>\n    <tr>\n      <th>2</th>\n      <td>Hugo Bowne-Anderson</td>\n      <td>1</td>\n    </tr>\n    <tr>\n      <th>3</th>\n      <td>Hugo Bowne-Anderson and Mike Loukides</td>\n      <td>1</td>\n    </tr>\n    <tr>\n      <th>5</th>\n      <td>Justin Norman, Peter Skomoroch and Mike Loukides</td>\n      <td>1</td>\n    </tr>\n    <tr>\n      <th>8</th>\n      <td>Peter Skomoroch and Mike Loukides</td>\n      <td>1</td>\n    </tr>\n    <tr>\n      <th>9</th>\n      <td>Rita J. King</td>\n      <td>1</td>\n    </tr>\n  </tbody>\n</table>\n</div>"
     },
     "metadata": {},
     "execution_count": 73
    }
   ],
   "source": [
    "authors = feed_dataframe.groupby('author', as_index = False).agg({'title':'count'})\n",
    "authors.columns = ['author', 'entries']\n",
    "authors.sort_values('entries', ascending = False)"
   ]
  },
  {
   "cell_type": "markdown",
   "metadata": {},
   "source": [
    "### 11. Add a new column to the data frame that contains the length (number of characters) of each entry title. Return a data frame that contains the title, author, and title length of each entry in descending order (longest title length at the top)."
   ]
  },
  {
   "cell_type": "code",
   "execution_count": 74,
   "metadata": {},
   "outputs": [
    {
     "output_type": "execute_result",
     "data": {
      "text/plain": "                                                title  \\\n47  Great leaders inspire innovation and creativit...   \n21  How data privacy leader Apple found itself in ...   \n48  Strong leaders forge an intersection of knowle...   \n54  It’s an unprecedented crisis: 8 things to do r...   \n41  What you need to know about product management...   \n\n                               author  title_length  \n47                          Jenn Webb            76  \n21        Daniel Wu and Mike Loukides            71  \n48                          Jenn Webb            64  \n54                      Cynthia Owens            54  \n41  Peter Skomoroch and Mike Loukides            53  ",
      "text/html": "<div>\n<style scoped>\n    .dataframe tbody tr th:only-of-type {\n        vertical-align: middle;\n    }\n\n    .dataframe tbody tr th {\n        vertical-align: top;\n    }\n\n    .dataframe thead th {\n        text-align: right;\n    }\n</style>\n<table border=\"1\" class=\"dataframe\">\n  <thead>\n    <tr style=\"text-align: right;\">\n      <th></th>\n      <th>title</th>\n      <th>author</th>\n      <th>title_length</th>\n    </tr>\n  </thead>\n  <tbody>\n    <tr>\n      <th>47</th>\n      <td>Great leaders inspire innovation and creativit...</td>\n      <td>Jenn Webb</td>\n      <td>76</td>\n    </tr>\n    <tr>\n      <th>21</th>\n      <td>How data privacy leader Apple found itself in ...</td>\n      <td>Daniel Wu and Mike Loukides</td>\n      <td>71</td>\n    </tr>\n    <tr>\n      <th>48</th>\n      <td>Strong leaders forge an intersection of knowle...</td>\n      <td>Jenn Webb</td>\n      <td>64</td>\n    </tr>\n    <tr>\n      <th>54</th>\n      <td>It’s an unprecedented crisis: 8 things to do r...</td>\n      <td>Cynthia Owens</td>\n      <td>54</td>\n    </tr>\n    <tr>\n      <th>41</th>\n      <td>What you need to know about product management...</td>\n      <td>Peter Skomoroch and Mike Loukides</td>\n      <td>53</td>\n    </tr>\n  </tbody>\n</table>\n</div>"
     },
     "metadata": {},
     "execution_count": 74
    }
   ],
   "source": [
    "feed_dataframe['title_length'] = feed_dataframe['title'].apply(len)\n",
    "feed_dataframe[['title', 'author', 'title_length']].sort_values('title_length', ascending = False).head()"
   ]
  },
  {
   "cell_type": "markdown",
   "metadata": {},
   "source": [
    "### 12. Create a list of entry titles whose summary includes the phrase \"machine learning.\""
   ]
  },
  {
   "cell_type": "code",
   "execution_count": 97,
   "metadata": {},
   "outputs": [
    {
     "output_type": "execute_result",
     "data": {
      "text/plain": "                                                title  \\\n1         Practical Skills for The AI Product Manager   \n5                          When models are everywhere   \n7                        Four short links: 8 May 2020   \n41  What you need to know about product management...   \n\n                                              author  \\\n1   Justin Norman, Peter Skomoroch and Mike Loukides   \n5              Hugo Bowne-Anderson and Mike Loukides   \n7                                     Nat Torkington   \n41                 Peter Skomoroch and Mike Loukides   \n\n                                              summary  \n1   In our previous article, What You Need to Know...  \n5   You probably interact with fifty to a hundred ...  \n7   Mathematics for Machine Learning &#8212; We wr...  \n41  If you’re already a software product manager (...  ",
      "text/html": "<div>\n<style scoped>\n    .dataframe tbody tr th:only-of-type {\n        vertical-align: middle;\n    }\n\n    .dataframe tbody tr th {\n        vertical-align: top;\n    }\n\n    .dataframe thead th {\n        text-align: right;\n    }\n</style>\n<table border=\"1\" class=\"dataframe\">\n  <thead>\n    <tr style=\"text-align: right;\">\n      <th></th>\n      <th>title</th>\n      <th>author</th>\n      <th>summary</th>\n    </tr>\n  </thead>\n  <tbody>\n    <tr>\n      <th>1</th>\n      <td>Practical Skills for The AI Product Manager</td>\n      <td>Justin Norman, Peter Skomoroch and Mike Loukides</td>\n      <td>In our previous article, What You Need to Know...</td>\n    </tr>\n    <tr>\n      <th>5</th>\n      <td>When models are everywhere</td>\n      <td>Hugo Bowne-Anderson and Mike Loukides</td>\n      <td>You probably interact with fifty to a hundred ...</td>\n    </tr>\n    <tr>\n      <th>7</th>\n      <td>Four short links: 8 May 2020</td>\n      <td>Nat Torkington</td>\n      <td>Mathematics for Machine Learning &amp;#8212; We wr...</td>\n    </tr>\n    <tr>\n      <th>41</th>\n      <td>What you need to know about product management...</td>\n      <td>Peter Skomoroch and Mike Loukides</td>\n      <td>If you’re already a software product manager (...</td>\n    </tr>\n  </tbody>\n</table>\n</div>"
     },
     "metadata": {},
     "execution_count": 97
    }
   ],
   "source": [
    "mls = feed_dataframe[feed_dataframe['summary'].str.contains('machine learning')]\n",
    "mls[['title', 'author', 'summary']]"
   ]
  },
  {
   "cell_type": "code",
   "execution_count": null,
   "metadata": {},
   "outputs": [],
   "source": []
  }
 ],
 "metadata": {
  "kernelspec": {
   "display_name": "Python 3.7.6 64-bit ('anaconda3': virtualenv)",
   "language": "python",
   "name": "python37664bitanaconda3virtualenv0697af1ee67a458e9253591065064715"
  },
  "language_info": {
   "codemirror_mode": {
    "name": "ipython",
    "version": 3
   },
   "file_extension": ".py",
   "mimetype": "text/x-python",
   "name": "python",
   "nbconvert_exporter": "python",
   "pygments_lexer": "ipython3",
   "version": "3.7.6-final"
  }
 },
 "nbformat": 4,
 "nbformat_minor": 2
}