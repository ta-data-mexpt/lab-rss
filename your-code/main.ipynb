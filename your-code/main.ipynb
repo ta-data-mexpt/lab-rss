{
 "cells": [
  {
   "cell_type": "markdown",
   "metadata": {},
   "source": [
    "# Working with RSS Feeds Lab\n",
    "\n",
    "Complete the following set of exercises to solidify your knowledge of parsing RSS feeds and extracting information from them."
   ]
  },
  {
   "cell_type": "code",
   "execution_count": 5,
   "metadata": {},
   "outputs": [],
   "source": [
    "import feedparser"
   ]
  },
  {
   "cell_type": "markdown",
   "metadata": {},
   "source": [
    "### 1. Use feedparser to parse the following RSS feed URL."
   ]
  },
  {
   "cell_type": "code",
   "execution_count": 6,
   "metadata": {},
   "outputs": [
    {
     "output_type": "execute_result",
     "data": {
      "text/plain": [
       "{'title': 'Radar',\n",
       " 'title_detail': {'type': 'text/plain',\n",
       "  'language': None,\n",
       "  'base': 'http://feeds.feedburner.com/oreilly/radar/atom',\n",
       "  'value': 'Radar'},\n",
       " 'links': [{'rel': 'alternate',\n",
       "   'type': 'text/html',\n",
       "   'href': 'https://www.oreilly.com/radar'},\n",
       "  {'rel': 'self',\n",
       "   'type': 'application/rss+xml',\n",
       "   'href': 'http://feeds.feedburner.com/oreilly/radar/atom'},\n",
       "  {'rel': 'hub',\n",
       "   'href': 'http://pubsubhubbub.appspot.com/',\n",
       "   'type': 'text/html'}],\n",
       " 'link': 'https://www.oreilly.com/radar',\n",
       " 'subtitle': 'Now, next, and beyond: Tracking need-to-know trends at the intersection of business and technology',\n",
       " 'subtitle_detail': {'type': 'text/html',\n",
       "  'language': None,\n",
       "  'base': 'http://feeds.feedburner.com/oreilly/radar/atom',\n",
       "  'value': 'Now, next, and beyond: Tracking need-to-know trends at the intersection of business and technology'},\n",
       " 'updated': 'Tue, 11 May 2021 11:58:38 +0000',\n",
       " 'updated_parsed': time.struct_time(tm_year=2021, tm_mon=5, tm_mday=11, tm_hour=11, tm_min=58, tm_sec=38, tm_wday=1, tm_yday=131, tm_isdst=0),\n",
       " 'language': 'en-US',\n",
       " 'sy_updateperiod': 'hourly',\n",
       " 'sy_updatefrequency': '1',\n",
       " 'generator_detail': {'name': 'https://wordpress.org/?v=5.3.8'},\n",
       " 'generator': 'https://wordpress.org/?v=5.3.8',\n",
       " 'feedburner_info': {'uri': 'oreilly/radar/atom'},\n",
       " 'geo_lat': '38.393314',\n",
       " 'geo_long': '-122.836667',\n",
       " 'feedburner_emailserviceid': 'oreilly/radar/atom',\n",
       " 'feedburner_feedburnerhostname': 'https://feedburner.google.com'}"
      ]
     },
     "metadata": {},
     "execution_count": 6
    }
   ],
   "source": [
    "reddit = feedparser.parse('http://feeds.feedburner.com/oreilly/radar/atom')\n",
    "type(reddit)\n",
    "reddit['feed']"
   ]
  },
  {
   "cell_type": "markdown",
   "metadata": {},
   "source": [
    "### 2. Obtain a list of components (keys) that are available for this feed."
   ]
  },
  {
   "cell_type": "code",
   "execution_count": 7,
   "metadata": {},
   "outputs": [
    {
     "output_type": "execute_result",
     "data": {
      "text/plain": [
       "dict_keys(['bozo', 'entries', 'feed', 'headers', 'etag', 'updated', 'updated_parsed', 'href', 'status', 'encoding', 'version', 'namespaces'])"
      ]
     },
     "metadata": {},
     "execution_count": 7
    }
   ],
   "source": [
    "reddit.keys()"
   ]
  },
  {
   "cell_type": "markdown",
   "metadata": {},
   "source": [
    "### 3. Obtain a list of components (keys) that are available for the *feed* component of this RSS feed."
   ]
  },
  {
   "cell_type": "code",
   "execution_count": 8,
   "metadata": {},
   "outputs": [
    {
     "output_type": "execute_result",
     "data": {
      "text/plain": [
       "dict_keys(['title', 'title_detail', 'links', 'link', 'subtitle', 'subtitle_detail', 'updated', 'updated_parsed', 'language', 'sy_updateperiod', 'sy_updatefrequency', 'generator_detail', 'generator', 'feedburner_info', 'geo_lat', 'geo_long', 'feedburner_emailserviceid', 'feedburner_feedburnerhostname'])"
      ]
     },
     "metadata": {},
     "execution_count": 8
    }
   ],
   "source": [
    "reddit.feed.keys()"
   ]
  },
  {
   "cell_type": "markdown",
   "metadata": {},
   "source": [
    "### 4. Extract and print the feed title, subtitle, author, and link."
   ]
  },
  {
   "cell_type": "code",
   "execution_count": 9,
   "metadata": {},
   "outputs": [
    {
     "output_type": "stream",
     "name": "stdout",
     "text": [
      "Radar\n\nNow, next, and beyond: Tracking need-to-know trends at the intersection of business and technology\n\n{'type': 'text/plain', 'language': None, 'base': 'http://feeds.feedburner.com/oreilly/radar/atom', 'value': 'Radar'}\n\nhttps://www.oreilly.com/radar\n"
     ]
    }
   ],
   "source": [
    "print (reddit.feed.title)\n",
    "print ('')\n",
    "print (reddit.feed.subtitle)\n",
    "print ('')\n",
    "print (reddit.feed.title_detail)\n",
    "print ('')\n",
    "print (reddit.feed.link)"
   ]
  },
  {
   "cell_type": "markdown",
   "metadata": {},
   "source": [
    "### 5. Count the number of entries that are contained in this RSS feed."
   ]
  },
  {
   "cell_type": "code",
   "execution_count": 10,
   "metadata": {},
   "outputs": [
    {
     "output_type": "execute_result",
     "data": {
      "text/plain": [
       "12"
      ]
     },
     "metadata": {},
     "execution_count": 10
    }
   ],
   "source": [
    "len(reddit)"
   ]
  },
  {
   "cell_type": "markdown",
   "metadata": {},
   "source": [
    "### 6. Obtain a list of components (keys) available for an entry.\n",
    "\n",
    "*Hint: Remember to index first before requesting the keys*"
   ]
  },
  {
   "cell_type": "code",
   "execution_count": 11,
   "metadata": {},
   "outputs": [
    {
     "output_type": "execute_result",
     "data": {
      "text/plain": [
       "dict_keys(['title', 'title_detail', 'links', 'link', 'comments', 'published', 'published_parsed', 'authors', 'author', 'author_detail', 'tags', 'id', 'guidislink', 'summary', 'summary_detail', 'content', 'wfw_commentrss', 'slash_comments', 'feedburner_origlink'])"
      ]
     },
     "metadata": {},
     "execution_count": 11
    }
   ],
   "source": [
    "reddit.entries[0].keys()"
   ]
  },
  {
   "cell_type": "markdown",
   "metadata": {},
   "source": [
    "### 7. Extract a list of entry titles."
   ]
  },
  {
   "cell_type": "code",
   "execution_count": 12,
   "metadata": {},
   "outputs": [
    {
     "output_type": "execute_result",
     "data": {
      "text/plain": [
       "['DeepCheapFakes',\n",
       " 'Radar trends to watch: May 2021',\n",
       " 'Checking Jeff Bezos’s Math',\n",
       " 'AI Adoption in the Enterprise 2021',\n",
       " 'NFTs: Owning Digital Art',\n",
       " 'Radar trends to watch: April 2021',\n",
       " 'InfoTribes, Reality Brokers',\n",
       " 'The End of Silicon Valley as We Know It?',\n",
       " 'The Next Generation of AI',\n",
       " 'Radar trends to watch: March 2021',\n",
       " 'Product Management for AI',\n",
       " '5 things on our data and AI radar for 2021',\n",
       " '5 infrastructure and operations trends to watch in 2021',\n",
       " 'The Wrong Question',\n",
       " 'Radar trends to watch: February 2021',\n",
       " 'Where Programming, Ops, AI, and the Cloud are Headed in 2021',\n",
       " 'Seven Legal Questions for Data Scientists',\n",
       " 'Patterns',\n",
       " 'Radar trends to watch: January 2021',\n",
       " 'Four short links: 14 Dec 2020',\n",
       " 'Four short links: 8 Dec 2020',\n",
       " 'O’Reilly’s top 20 live online training courses of 2020',\n",
       " 'What is functional programming?',\n",
       " 'Four short links: 4 Dec 2020',\n",
       " 'Four short links: 1 Dec 2020',\n",
       " 'Radar trends to watch: December 2020',\n",
       " 'Four short links: 27 Nov 2020',\n",
       " 'Four short links: 24 Nov 2020',\n",
       " 'Four short links: 20 Nov 2020',\n",
       " 'On Exactitude in Technical Debt',\n",
       " 'Four short links: 17 Nov 2020',\n",
       " 'Four short links: 13 Nov 2020',\n",
       " 'Multi-Paradigm Languages',\n",
       " 'Four short links: 10 November 2020',\n",
       " 'Four short links: 6 Nov 2020',\n",
       " 'Four short links: 4 Nov 2020',\n",
       " 'Radar trends to watch: November 2020',\n",
       " 'Four short links: 30 Oct 2020',\n",
       " 'Four short links: 28 Oct 2020',\n",
       " 'Our Favorite Questions',\n",
       " 'Four short links: 21 Oct 2020',\n",
       " 'Four Short Links: 16 October 2020',\n",
       " 'Four short links: 14 Oct 2020',\n",
       " 'AI Product Management After Deployment',\n",
       " 'Four short links: 9 October 2020',\n",
       " 'AI and Creativity',\n",
       " 'Four short links: 6 October 2020',\n",
       " 'Four short links: 2 October 2020',\n",
       " 'Radar trends to watch: October 2020',\n",
       " 'Four short links: 29 Sep 2020',\n",
       " 'Four short links: 25 September 2020',\n",
       " 'Four short links: 18 Sep 2020',\n",
       " 'Four short links: 16 Sep 2020',\n",
       " 'How to Set AI Goals',\n",
       " 'Four short links: 11 Sep 2020',\n",
       " 'Four short links: 9 Sep 2020',\n",
       " 'Pair Programming with AI',\n",
       " 'Four short links: 4 September 2020',\n",
       " 'Four short links: 2 September 2020',\n",
       " 'Radar trends to watch: September 2020']"
      ]
     },
     "metadata": {},
     "execution_count": 12
    }
   ],
   "source": [
    "titles = [reddit.entries[i].title for i in range(len(reddit.entries))]\n",
    "titles"
   ]
  },
  {
   "cell_type": "markdown",
   "metadata": {},
   "source": [
    "### 8. Calculate the percentage of \"Four short links\" entry titles."
   ]
  },
  {
   "cell_type": "code",
   "execution_count": 13,
   "metadata": {},
   "outputs": [
    {
     "output_type": "execute_result",
     "data": {
      "text/plain": [
       "0.45"
      ]
     },
     "metadata": {},
     "execution_count": 13
    }
   ],
   "source": [
    "total = len(titles)\n",
    "four_short = [i for i in titles if 'Four short links' in i]\n",
    "fh = len(four_short)\n",
    "percentage = fh/total\n",
    "percentage"
   ]
  },
  {
   "cell_type": "markdown",
   "metadata": {},
   "source": [
    "### 9. Create a Pandas data frame from the feed's entries."
   ]
  },
  {
   "cell_type": "code",
   "execution_count": 14,
   "metadata": {},
   "outputs": [],
   "source": [
    "import pandas as pd"
   ]
  },
  {
   "cell_type": "code",
   "execution_count": 15,
   "metadata": {},
   "outputs": [
    {
     "output_type": "execute_result",
     "data": {
      "text/plain": [
       "                             title  \\\n",
       "0                   DeepCheapFakes   \n",
       "1  Radar trends to watch: May 2021   \n",
       "2       Checking Jeff Bezos’s Math   \n",
       "\n",
       "                                        title_detail  \\\n",
       "0  {'type': 'text/plain', 'language': None, 'base...   \n",
       "1  {'type': 'text/plain', 'language': None, 'base...   \n",
       "2  {'type': 'text/plain', 'language': None, 'base...   \n",
       "\n",
       "                                               links  \\\n",
       "0  [{'rel': 'alternate', 'type': 'text/html', 'hr...   \n",
       "1  [{'rel': 'alternate', 'type': 'text/html', 'hr...   \n",
       "2  [{'rel': 'alternate', 'type': 'text/html', 'hr...   \n",
       "\n",
       "                                                link  \\\n",
       "0  http://feedproxy.google.com/~r/oreilly/radar/a...   \n",
       "1  http://feedproxy.google.com/~r/oreilly/radar/a...   \n",
       "2  http://feedproxy.google.com/~r/oreilly/radar/a...   \n",
       "\n",
       "                                            comments  \\\n",
       "0  https://www.oreilly.com/radar/deepcheapfakes/#...   \n",
       "1  https://www.oreilly.com/radar/radar-trends-to-...   \n",
       "2  https://www.oreilly.com/radar/checking-jeff-be...   \n",
       "\n",
       "                         published                      published_parsed  \\\n",
       "0  Tue, 11 May 2021 11:58:37 +0000  (2021, 5, 11, 11, 58, 37, 1, 131, 0)   \n",
       "1  Mon, 03 May 2021 14:05:40 +0000    (2021, 5, 3, 14, 5, 40, 0, 123, 0)   \n",
       "2  Fri, 23 Apr 2021 20:43:28 +0000  (2021, 4, 23, 20, 43, 28, 4, 113, 0)   \n",
       "\n",
       "                       authors         author              author_detail  \\\n",
       "0  [{'name': 'Mike Loukides'}]  Mike Loukides  {'name': 'Mike Loukides'}   \n",
       "1  [{'name': 'Mike Loukides'}]  Mike Loukides  {'name': 'Mike Loukides'}   \n",
       "2   [{'name': 'Tim O’Reilly'}]   Tim O’Reilly   {'name': 'Tim O’Reilly'}   \n",
       "\n",
       "                                                tags  \\\n",
       "0  [{'term': 'Artificial Intelligence', 'scheme':...   \n",
       "1  [{'term': 'Radar Trends', 'scheme': None, 'lab...   \n",
       "2  [{'term': 'Business', 'scheme': None, 'label':...   \n",
       "\n",
       "                                       id  guidislink  \\\n",
       "0  https://www.oreilly.com/radar/?p=13768       False   \n",
       "1  https://www.oreilly.com/radar/?p=13755       False   \n",
       "2  https://www.oreilly.com/radar/?p=13748       False   \n",
       "\n",
       "                                             summary  \\\n",
       "0  Back in 2019, Ben Lorica and I wrote about  de...   \n",
       "1  We’ll start with a moment of silence. RIP Dan ...   \n",
       "2  “If you want to be successful in business (in ...   \n",
       "\n",
       "                                      summary_detail  \\\n",
       "0  {'type': 'text/html', 'language': None, 'base'...   \n",
       "1  {'type': 'text/html', 'language': None, 'base'...   \n",
       "2  {'type': 'text/html', 'language': None, 'base'...   \n",
       "\n",
       "                                             content  \\\n",
       "0  [{'type': 'text/html', 'language': None, 'base...   \n",
       "1  [{'type': 'text/html', 'language': None, 'base...   \n",
       "2  [{'type': 'text/html', 'language': None, 'base...   \n",
       "\n",
       "                                      wfw_commentrss slash_comments  \\\n",
       "0  https://www.oreilly.com/radar/deepcheapfakes/f...              0   \n",
       "1  https://www.oreilly.com/radar/radar-trends-to-...              0   \n",
       "2  https://www.oreilly.com/radar/checking-jeff-be...              0   \n",
       "\n",
       "                                 feedburner_origlink  \n",
       "0      https://www.oreilly.com/radar/deepcheapfakes/  \n",
       "1  https://www.oreilly.com/radar/radar-trends-to-...  \n",
       "2  https://www.oreilly.com/radar/checking-jeff-be...  "
      ],
      "text/html": "<div>\n<style scoped>\n    .dataframe tbody tr th:only-of-type {\n        vertical-align: middle;\n    }\n\n    .dataframe tbody tr th {\n        vertical-align: top;\n    }\n\n    .dataframe thead th {\n        text-align: right;\n    }\n</style>\n<table border=\"1\" class=\"dataframe\">\n  <thead>\n    <tr style=\"text-align: right;\">\n      <th></th>\n      <th>title</th>\n      <th>title_detail</th>\n      <th>links</th>\n      <th>link</th>\n      <th>comments</th>\n      <th>published</th>\n      <th>published_parsed</th>\n      <th>authors</th>\n      <th>author</th>\n      <th>author_detail</th>\n      <th>tags</th>\n      <th>id</th>\n      <th>guidislink</th>\n      <th>summary</th>\n      <th>summary_detail</th>\n      <th>content</th>\n      <th>wfw_commentrss</th>\n      <th>slash_comments</th>\n      <th>feedburner_origlink</th>\n    </tr>\n  </thead>\n  <tbody>\n    <tr>\n      <th>0</th>\n      <td>DeepCheapFakes</td>\n      <td>{'type': 'text/plain', 'language': None, 'base...</td>\n      <td>[{'rel': 'alternate', 'type': 'text/html', 'hr...</td>\n      <td>http://feedproxy.google.com/~r/oreilly/radar/a...</td>\n      <td>https://www.oreilly.com/radar/deepcheapfakes/#...</td>\n      <td>Tue, 11 May 2021 11:58:37 +0000</td>\n      <td>(2021, 5, 11, 11, 58, 37, 1, 131, 0)</td>\n      <td>[{'name': 'Mike Loukides'}]</td>\n      <td>Mike Loukides</td>\n      <td>{'name': 'Mike Loukides'}</td>\n      <td>[{'term': 'Artificial Intelligence', 'scheme':...</td>\n      <td>https://www.oreilly.com/radar/?p=13768</td>\n      <td>False</td>\n      <td>Back in 2019, Ben Lorica and I wrote about  de...</td>\n      <td>{'type': 'text/html', 'language': None, 'base'...</td>\n      <td>[{'type': 'text/html', 'language': None, 'base...</td>\n      <td>https://www.oreilly.com/radar/deepcheapfakes/f...</td>\n      <td>0</td>\n      <td>https://www.oreilly.com/radar/deepcheapfakes/</td>\n    </tr>\n    <tr>\n      <th>1</th>\n      <td>Radar trends to watch: May 2021</td>\n      <td>{'type': 'text/plain', 'language': None, 'base...</td>\n      <td>[{'rel': 'alternate', 'type': 'text/html', 'hr...</td>\n      <td>http://feedproxy.google.com/~r/oreilly/radar/a...</td>\n      <td>https://www.oreilly.com/radar/radar-trends-to-...</td>\n      <td>Mon, 03 May 2021 14:05:40 +0000</td>\n      <td>(2021, 5, 3, 14, 5, 40, 0, 123, 0)</td>\n      <td>[{'name': 'Mike Loukides'}]</td>\n      <td>Mike Loukides</td>\n      <td>{'name': 'Mike Loukides'}</td>\n      <td>[{'term': 'Radar Trends', 'scheme': None, 'lab...</td>\n      <td>https://www.oreilly.com/radar/?p=13755</td>\n      <td>False</td>\n      <td>We’ll start with a moment of silence. RIP Dan ...</td>\n      <td>{'type': 'text/html', 'language': None, 'base'...</td>\n      <td>[{'type': 'text/html', 'language': None, 'base...</td>\n      <td>https://www.oreilly.com/radar/radar-trends-to-...</td>\n      <td>0</td>\n      <td>https://www.oreilly.com/radar/radar-trends-to-...</td>\n    </tr>\n    <tr>\n      <th>2</th>\n      <td>Checking Jeff Bezos’s Math</td>\n      <td>{'type': 'text/plain', 'language': None, 'base...</td>\n      <td>[{'rel': 'alternate', 'type': 'text/html', 'hr...</td>\n      <td>http://feedproxy.google.com/~r/oreilly/radar/a...</td>\n      <td>https://www.oreilly.com/radar/checking-jeff-be...</td>\n      <td>Fri, 23 Apr 2021 20:43:28 +0000</td>\n      <td>(2021, 4, 23, 20, 43, 28, 4, 113, 0)</td>\n      <td>[{'name': 'Tim O’Reilly'}]</td>\n      <td>Tim O’Reilly</td>\n      <td>{'name': 'Tim O’Reilly'}</td>\n      <td>[{'term': 'Business', 'scheme': None, 'label':...</td>\n      <td>https://www.oreilly.com/radar/?p=13748</td>\n      <td>False</td>\n      <td>“If you want to be successful in business (in ...</td>\n      <td>{'type': 'text/html', 'language': None, 'base'...</td>\n      <td>[{'type': 'text/html', 'language': None, 'base...</td>\n      <td>https://www.oreilly.com/radar/checking-jeff-be...</td>\n      <td>0</td>\n      <td>https://www.oreilly.com/radar/checking-jeff-be...</td>\n    </tr>\n  </tbody>\n</table>\n</div>"
     },
     "metadata": {},
     "execution_count": 15
    }
   ],
   "source": [
    "df = pd.DataFrame(reddit.entries)\n",
    "df.head(3)"
   ]
  },
  {
   "cell_type": "markdown",
   "metadata": {},
   "source": [
    "### 10. Count the number of entries per author and sort them in descending order."
   ]
  },
  {
   "cell_type": "code",
   "execution_count": 16,
   "metadata": {},
   "outputs": [
    {
     "output_type": "execute_result",
     "data": {
      "text/plain": [
       "                                           author  title\n",
       "6                                  Nat Torkington     27\n",
       "5                                   Mike Loukides     21\n",
       "0                                                      4\n",
       "9                                    Tim O’Reilly      2\n",
       "1                                 Alex Castrounis      1\n",
       "2                             Hugo Bowne-Anderson      1\n",
       "3                 Justin Norman and Mike Loukides      1\n",
       "4                                   Kevlin Henney      1\n",
       "7                 Patrick Hall and Ayoub Ouederni      1\n",
       "8  Q Ethan McCallum, Chris Butler and Shane Glynn      1"
      ],
      "text/html": "<div>\n<style scoped>\n    .dataframe tbody tr th:only-of-type {\n        vertical-align: middle;\n    }\n\n    .dataframe tbody tr th {\n        vertical-align: top;\n    }\n\n    .dataframe thead th {\n        text-align: right;\n    }\n</style>\n<table border=\"1\" class=\"dataframe\">\n  <thead>\n    <tr style=\"text-align: right;\">\n      <th></th>\n      <th>author</th>\n      <th>title</th>\n    </tr>\n  </thead>\n  <tbody>\n    <tr>\n      <th>6</th>\n      <td>Nat Torkington</td>\n      <td>27</td>\n    </tr>\n    <tr>\n      <th>5</th>\n      <td>Mike Loukides</td>\n      <td>21</td>\n    </tr>\n    <tr>\n      <th>0</th>\n      <td></td>\n      <td>4</td>\n    </tr>\n    <tr>\n      <th>9</th>\n      <td>Tim O’Reilly</td>\n      <td>2</td>\n    </tr>\n    <tr>\n      <th>1</th>\n      <td>Alex Castrounis</td>\n      <td>1</td>\n    </tr>\n    <tr>\n      <th>2</th>\n      <td>Hugo Bowne-Anderson</td>\n      <td>1</td>\n    </tr>\n    <tr>\n      <th>3</th>\n      <td>Justin Norman and Mike Loukides</td>\n      <td>1</td>\n    </tr>\n    <tr>\n      <th>4</th>\n      <td>Kevlin Henney</td>\n      <td>1</td>\n    </tr>\n    <tr>\n      <th>7</th>\n      <td>Patrick Hall and Ayoub Ouederni</td>\n      <td>1</td>\n    </tr>\n    <tr>\n      <th>8</th>\n      <td>Q Ethan McCallum, Chris Butler and Shane Glynn</td>\n      <td>1</td>\n    </tr>\n  </tbody>\n</table>\n</div>"
     },
     "metadata": {},
     "execution_count": 16
    }
   ],
   "source": [
    "authors = df.groupby('author', as_index=False).agg({'title':'count'})\n",
    "authors.sort_values('title', ascending=False)"
   ]
  },
  {
   "cell_type": "markdown",
   "metadata": {},
   "source": [
    "### 11. Add a new column to the data frame that contains the length (number of characters) of each entry title. Return a data frame that contains the title, author, and title length of each entry in descending order (longest title length at the top)."
   ]
  },
  {
   "cell_type": "code",
   "execution_count": 17,
   "metadata": {},
   "outputs": [
    {
     "output_type": "execute_result",
     "data": {
      "text/plain": [
       "                                                title  \\\n",
       "15  Where Programming, Ops, AI, and the Cloud are ...   \n",
       "12  5 infrastructure and operations trends to watc...   \n",
       "21  O’Reilly’s top 20 live online training courses...   \n",
       "11         5 things on our data and AI radar for 2021   \n",
       "16          Seven Legal Questions for Data Scientists   \n",
       "\n",
       "                             author  title_leng  \n",
       "15                    Mike Loukides          60  \n",
       "12                                           55  \n",
       "21                                           54  \n",
       "11                                           42  \n",
       "16  Patrick Hall and Ayoub Ouederni          41  "
      ],
      "text/html": "<div>\n<style scoped>\n    .dataframe tbody tr th:only-of-type {\n        vertical-align: middle;\n    }\n\n    .dataframe tbody tr th {\n        vertical-align: top;\n    }\n\n    .dataframe thead th {\n        text-align: right;\n    }\n</style>\n<table border=\"1\" class=\"dataframe\">\n  <thead>\n    <tr style=\"text-align: right;\">\n      <th></th>\n      <th>title</th>\n      <th>author</th>\n      <th>title_leng</th>\n    </tr>\n  </thead>\n  <tbody>\n    <tr>\n      <th>15</th>\n      <td>Where Programming, Ops, AI, and the Cloud are ...</td>\n      <td>Mike Loukides</td>\n      <td>60</td>\n    </tr>\n    <tr>\n      <th>12</th>\n      <td>5 infrastructure and operations trends to watc...</td>\n      <td></td>\n      <td>55</td>\n    </tr>\n    <tr>\n      <th>21</th>\n      <td>O’Reilly’s top 20 live online training courses...</td>\n      <td></td>\n      <td>54</td>\n    </tr>\n    <tr>\n      <th>11</th>\n      <td>5 things on our data and AI radar for 2021</td>\n      <td></td>\n      <td>42</td>\n    </tr>\n    <tr>\n      <th>16</th>\n      <td>Seven Legal Questions for Data Scientists</td>\n      <td>Patrick Hall and Ayoub Ouederni</td>\n      <td>41</td>\n    </tr>\n  </tbody>\n</table>\n</div>"
     },
     "metadata": {},
     "execution_count": 17
    }
   ],
   "source": [
    "df['title_leng'] = df['title'].apply(len)\n",
    "df[['title', 'author', 'title_leng']].sort_values('title_leng', ascending=False).head()"
   ]
  },
  {
   "cell_type": "markdown",
   "metadata": {},
   "source": [
    "### 12. Create a list of entry titles whose summary includes the phrase \"machine learning.\""
   ]
  },
  {
   "cell_type": "code",
   "execution_count": 28,
   "metadata": {},
   "outputs": [
    {
     "output_type": "execute_result",
     "data": {
      "text/plain": [
       "['Radar trends to watch: April 2021',\n",
       " 'Seven Legal Questions for Data Scientists']"
      ]
     },
     "metadata": {},
     "execution_count": 28
    }
   ],
   "source": [
    "def find_value_column(row):\n",
    "    return 'machine learning' in row.summary\n",
    "\n",
    "titles = list(df[df.apply(find_value_column, axis=1)]['title'])\n",
    "titles"
   ]
  }
 ],
 "metadata": {
  "kernelspec": {
   "name": "python395jvsc74a57bd0376f5b0795f81aa7b5d99e448d6274743a66c9892fd26cf11e505993f41df5fa",
   "display_name": "Python 3.9.5 64-bit"
  },
  "language_info": {
   "codemirror_mode": {
    "name": "ipython",
    "version": 3
   },
   "file_extension": ".py",
   "mimetype": "text/x-python",
   "name": "python",
   "nbconvert_exporter": "python",
   "pygments_lexer": "ipython3",
   "version": "3.9.5"
  }
 },
 "nbformat": 4,
 "nbformat_minor": 2
}